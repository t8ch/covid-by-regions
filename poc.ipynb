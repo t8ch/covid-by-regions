{
 "metadata": {
  "language_info": {
   "codemirror_mode": {
    "name": "ipython",
    "version": 3
   },
   "file_extension": ".py",
   "mimetype": "text/x-python",
   "name": "python",
   "nbconvert_exporter": "python",
   "pygments_lexer": "ipython3",
   "version": "3.8.5-final"
  },
  "orig_nbformat": 2,
  "kernelspec": {
   "name": "python38564bitcovidmadeiraconda0ec865c948394b958e4b6175b780ab27",
   "display_name": "Python 3.8.5 64-bit ('covid-madeira': conda)"
  }
 },
 "nbformat": 4,
 "nbformat_minor": 2,
 "cells": [
  {
   "cell_type": "code",
   "execution_count": 40,
   "metadata": {
    "tags": []
   },
   "outputs": [
    {
     "output_type": "stream",
     "name": "stdout",
     "text": "[NbConvertApp] Converting notebook poc.ipynb to python\n[NbConvertApp] Writing 1866 bytes to poc.py\n"
    }
   ],
   "source": [
    "! jupyter nbconvert --to python poc.ipynb"
   ]
  },
  {
   "cell_type": "code",
   "execution_count": 11,
   "metadata": {},
   "outputs": [],
   "source": [
    "import pandas as pd\n",
    "import requests\n",
    "import plotly\n",
    "import plotly.graph_objs as go"
   ]
  },
  {
   "cell_type": "code",
   "execution_count": 31,
   "metadata": {},
   "outputs": [],
   "source": [
    "url = \"https://pt.wikipedia.org/wiki/Predefinição:Tabela_Covid-19_Portugal_região/dia_(DGS)\"\n",
    "\n",
    "r = requests.get(url, auth=('user', 'pass'))\n",
    "website = r.text\n",
    "tables = pd.read_html( website, encoding=\"UTF-8\")\n",
    "table = tables[0]"
   ]
  },
  {
   "cell_type": "code",
   "execution_count": 32,
   "metadata": {},
   "outputs": [
    {
     "output_type": "execute_result",
     "data": {
      "text/plain": "       data     Portugal                                                \\\n       data  confirmados                              recup.    óbitos   \n       data            Δ            Σ            ‱    recup.    óbitos   \n0    03 Mar            —            4         0000         0         0   \n1    04 Mar            2            6         0001         0         0   \n2    05 Mar            3            9         0001         0         0   \n3    06 Mar            4           13         0001         0         0   \n4    07 Mar            8           21         0002         0         0   \n..      ...          ...          ...          ...       ...       ...   \n208  27 Set          665        73604         7094     47647      1953   \n209  totais        73604        73604         7094     47647      1953   \n210    data  confirmados  confirmados  confirmados    recup.    óbitos   \n211    data            Δ            Σ            ‱    recup.    óbitos   \n212    data     Portugal     Portugal     Portugal  Portugal  Portugal   \n\n           Norte                                    ...       Açores          \\\n     confirmados                            recup.  ...  confirmados  recup.   \n               Δ            Σ            ‱  recup.  ...            ‱  recup.   \n0              —            2         0001       —  ...         0000       —   \n1              1            3         0001       —  ...         0000       —   \n2              2            5         0001       —  ...         0000       —   \n3              3            8         0002       —  ...         0000       —   \n4              7           15         0004       —  ...         0000       —   \n..           ...          ...          ...     ...  ...          ...     ...   \n208          246        26407         7157       —  ...         1082       —   \n209        26407        26407         7157       —  ...         1082       —   \n210  confirmados  confirmados  confirmados  recup.  ...  confirmados  recup.   \n211            Δ            Σ            ‱  recup.  ...            ‱  recup.   \n212        Norte        Norte        Norte   Norte  ...       Açores  Açores   \n\n                 Madeira                                              \\\n     óbitos  confirmados                             recup.   óbitos   \n     óbitos            Δ            Σ            ‱   recup.   óbitos   \n0         0            —            0         0000        —        0   \n1         0            0            0         0000        —        0   \n2         0            0            0         0000        —        0   \n3         0            0            0         0000        —        0   \n4         0            0            0         0000        —        0   \n..      ...          ...          ...          ...      ...      ...   \n208      15            3          217         0810        —        0   \n209      15          217          217         0810        —        0   \n210  óbitos  confirmados  confirmados  confirmados   recup.   óbitos   \n211  óbitos            Δ            Σ            ‱   recup.   óbitos   \n212  Açores      Madeira      Madeira      Madeira  Madeira  Madeira   \n\n     estrangeiro    data  \n     estrangeiro    data  \n     estrangeiro  data.1  \n0              0  03 Mar  \n1              0  04 Mar  \n2              0  05 Mar  \n3              0  06 Mar  \n4              0  07 Mar  \n..           ...     ...  \n208            —  27 Set  \n209            —  totais  \n210  estrangeiro    data  \n211  estrangeiro    data  \n212  estrangeiro    data  \n\n[213 rows x 43 columns]",
      "text/html": "<div>\n<style scoped>\n    .dataframe tbody tr th:only-of-type {\n        vertical-align: middle;\n    }\n\n    .dataframe tbody tr th {\n        vertical-align: top;\n    }\n\n    .dataframe thead tr th {\n        text-align: left;\n    }\n</style>\n<table border=\"1\" class=\"dataframe\">\n  <thead>\n    <tr>\n      <th></th>\n      <th>data</th>\n      <th colspan=\"5\" halign=\"left\">Portugal</th>\n      <th colspan=\"4\" halign=\"left\">Norte</th>\n      <th>...</th>\n      <th colspan=\"3\" halign=\"left\">Açores</th>\n      <th colspan=\"5\" halign=\"left\">Madeira</th>\n      <th>estrangeiro</th>\n      <th>data</th>\n    </tr>\n    <tr>\n      <th></th>\n      <th>data</th>\n      <th colspan=\"3\" halign=\"left\">confirmados</th>\n      <th>recup.</th>\n      <th>óbitos</th>\n      <th colspan=\"3\" halign=\"left\">confirmados</th>\n      <th>recup.</th>\n      <th>...</th>\n      <th>confirmados</th>\n      <th>recup.</th>\n      <th>óbitos</th>\n      <th colspan=\"3\" halign=\"left\">confirmados</th>\n      <th>recup.</th>\n      <th>óbitos</th>\n      <th>estrangeiro</th>\n      <th>data</th>\n    </tr>\n    <tr>\n      <th></th>\n      <th>data</th>\n      <th>Δ</th>\n      <th>Σ</th>\n      <th>‱</th>\n      <th>recup.</th>\n      <th>óbitos</th>\n      <th>Δ</th>\n      <th>Σ</th>\n      <th>‱</th>\n      <th>recup.</th>\n      <th>...</th>\n      <th>‱</th>\n      <th>recup.</th>\n      <th>óbitos</th>\n      <th>Δ</th>\n      <th>Σ</th>\n      <th>‱</th>\n      <th>recup.</th>\n      <th>óbitos</th>\n      <th>estrangeiro</th>\n      <th>data.1</th>\n    </tr>\n  </thead>\n  <tbody>\n    <tr>\n      <th>0</th>\n      <td>03 Mar</td>\n      <td>—</td>\n      <td>4</td>\n      <td>0000</td>\n      <td>0</td>\n      <td>0</td>\n      <td>—</td>\n      <td>2</td>\n      <td>0001</td>\n      <td>—</td>\n      <td>...</td>\n      <td>0000</td>\n      <td>—</td>\n      <td>0</td>\n      <td>—</td>\n      <td>0</td>\n      <td>0000</td>\n      <td>—</td>\n      <td>0</td>\n      <td>0</td>\n      <td>03 Mar</td>\n    </tr>\n    <tr>\n      <th>1</th>\n      <td>04 Mar</td>\n      <td>2</td>\n      <td>6</td>\n      <td>0001</td>\n      <td>0</td>\n      <td>0</td>\n      <td>1</td>\n      <td>3</td>\n      <td>0001</td>\n      <td>—</td>\n      <td>...</td>\n      <td>0000</td>\n      <td>—</td>\n      <td>0</td>\n      <td>0</td>\n      <td>0</td>\n      <td>0000</td>\n      <td>—</td>\n      <td>0</td>\n      <td>0</td>\n      <td>04 Mar</td>\n    </tr>\n    <tr>\n      <th>2</th>\n      <td>05 Mar</td>\n      <td>3</td>\n      <td>9</td>\n      <td>0001</td>\n      <td>0</td>\n      <td>0</td>\n      <td>2</td>\n      <td>5</td>\n      <td>0001</td>\n      <td>—</td>\n      <td>...</td>\n      <td>0000</td>\n      <td>—</td>\n      <td>0</td>\n      <td>0</td>\n      <td>0</td>\n      <td>0000</td>\n      <td>—</td>\n      <td>0</td>\n      <td>0</td>\n      <td>05 Mar</td>\n    </tr>\n    <tr>\n      <th>3</th>\n      <td>06 Mar</td>\n      <td>4</td>\n      <td>13</td>\n      <td>0001</td>\n      <td>0</td>\n      <td>0</td>\n      <td>3</td>\n      <td>8</td>\n      <td>0002</td>\n      <td>—</td>\n      <td>...</td>\n      <td>0000</td>\n      <td>—</td>\n      <td>0</td>\n      <td>0</td>\n      <td>0</td>\n      <td>0000</td>\n      <td>—</td>\n      <td>0</td>\n      <td>0</td>\n      <td>06 Mar</td>\n    </tr>\n    <tr>\n      <th>4</th>\n      <td>07 Mar</td>\n      <td>8</td>\n      <td>21</td>\n      <td>0002</td>\n      <td>0</td>\n      <td>0</td>\n      <td>7</td>\n      <td>15</td>\n      <td>0004</td>\n      <td>—</td>\n      <td>...</td>\n      <td>0000</td>\n      <td>—</td>\n      <td>0</td>\n      <td>0</td>\n      <td>0</td>\n      <td>0000</td>\n      <td>—</td>\n      <td>0</td>\n      <td>0</td>\n      <td>07 Mar</td>\n    </tr>\n    <tr>\n      <th>...</th>\n      <td>...</td>\n      <td>...</td>\n      <td>...</td>\n      <td>...</td>\n      <td>...</td>\n      <td>...</td>\n      <td>...</td>\n      <td>...</td>\n      <td>...</td>\n      <td>...</td>\n      <td>...</td>\n      <td>...</td>\n      <td>...</td>\n      <td>...</td>\n      <td>...</td>\n      <td>...</td>\n      <td>...</td>\n      <td>...</td>\n      <td>...</td>\n      <td>...</td>\n      <td>...</td>\n    </tr>\n    <tr>\n      <th>208</th>\n      <td>27 Set</td>\n      <td>665</td>\n      <td>73604</td>\n      <td>7094</td>\n      <td>47647</td>\n      <td>1953</td>\n      <td>246</td>\n      <td>26407</td>\n      <td>7157</td>\n      <td>—</td>\n      <td>...</td>\n      <td>1082</td>\n      <td>—</td>\n      <td>15</td>\n      <td>3</td>\n      <td>217</td>\n      <td>0810</td>\n      <td>—</td>\n      <td>0</td>\n      <td>—</td>\n      <td>27 Set</td>\n    </tr>\n    <tr>\n      <th>209</th>\n      <td>totais</td>\n      <td>73604</td>\n      <td>73604</td>\n      <td>7094</td>\n      <td>47647</td>\n      <td>1953</td>\n      <td>26407</td>\n      <td>26407</td>\n      <td>7157</td>\n      <td>—</td>\n      <td>...</td>\n      <td>1082</td>\n      <td>—</td>\n      <td>15</td>\n      <td>217</td>\n      <td>217</td>\n      <td>0810</td>\n      <td>—</td>\n      <td>0</td>\n      <td>—</td>\n      <td>totais</td>\n    </tr>\n    <tr>\n      <th>210</th>\n      <td>data</td>\n      <td>confirmados</td>\n      <td>confirmados</td>\n      <td>confirmados</td>\n      <td>recup.</td>\n      <td>óbitos</td>\n      <td>confirmados</td>\n      <td>confirmados</td>\n      <td>confirmados</td>\n      <td>recup.</td>\n      <td>...</td>\n      <td>confirmados</td>\n      <td>recup.</td>\n      <td>óbitos</td>\n      <td>confirmados</td>\n      <td>confirmados</td>\n      <td>confirmados</td>\n      <td>recup.</td>\n      <td>óbitos</td>\n      <td>estrangeiro</td>\n      <td>data</td>\n    </tr>\n    <tr>\n      <th>211</th>\n      <td>data</td>\n      <td>Δ</td>\n      <td>Σ</td>\n      <td>‱</td>\n      <td>recup.</td>\n      <td>óbitos</td>\n      <td>Δ</td>\n      <td>Σ</td>\n      <td>‱</td>\n      <td>recup.</td>\n      <td>...</td>\n      <td>‱</td>\n      <td>recup.</td>\n      <td>óbitos</td>\n      <td>Δ</td>\n      <td>Σ</td>\n      <td>‱</td>\n      <td>recup.</td>\n      <td>óbitos</td>\n      <td>estrangeiro</td>\n      <td>data</td>\n    </tr>\n    <tr>\n      <th>212</th>\n      <td>data</td>\n      <td>Portugal</td>\n      <td>Portugal</td>\n      <td>Portugal</td>\n      <td>Portugal</td>\n      <td>Portugal</td>\n      <td>Norte</td>\n      <td>Norte</td>\n      <td>Norte</td>\n      <td>Norte</td>\n      <td>...</td>\n      <td>Açores</td>\n      <td>Açores</td>\n      <td>Açores</td>\n      <td>Madeira</td>\n      <td>Madeira</td>\n      <td>Madeira</td>\n      <td>Madeira</td>\n      <td>Madeira</td>\n      <td>estrangeiro</td>\n      <td>data</td>\n    </tr>\n  </tbody>\n</table>\n<p>213 rows × 43 columns</p>\n</div>"
     },
     "metadata": {},
     "execution_count": 32
    }
   ],
   "source": [
    "table"
   ]
  },
  {
   "cell_type": "code",
   "execution_count": 33,
   "metadata": {},
   "outputs": [
    {
     "output_type": "execute_result",
     "data": {
      "text/plain": "       data             Madeira                         \n       data         confirmados            recup. óbitos\n       data  data.1           Δ    Σ     ‱ recup. óbitos\n0    03 Mar  03 Mar           —    0  0000      —      0\n1    04 Mar  04 Mar           0    0  0000      —      0\n2    05 Mar  05 Mar           0    0  0000      —      0\n3    06 Mar  06 Mar           0    0  0000      —      0\n4    07 Mar  07 Mar           0    0  0000      —      0\n..      ...     ...         ...  ...   ...    ...    ...\n204  23 Set  23 Set           5  210  0784      —      0\n205  24 Set  24 Set           1  211  0788      —      0\n206  25 Set  25 Set           0  211  0788      —      0\n207  26 Set  26 Set           3  214  0799      —      0\n208  27 Set  27 Set           3  217  0810      —      0\n\n[209 rows x 7 columns]",
      "text/html": "<div>\n<style scoped>\n    .dataframe tbody tr th:only-of-type {\n        vertical-align: middle;\n    }\n\n    .dataframe tbody tr th {\n        vertical-align: top;\n    }\n\n    .dataframe thead tr th {\n        text-align: left;\n    }\n</style>\n<table border=\"1\" class=\"dataframe\">\n  <thead>\n    <tr>\n      <th></th>\n      <th colspan=\"2\" halign=\"left\">data</th>\n      <th colspan=\"5\" halign=\"left\">Madeira</th>\n    </tr>\n    <tr>\n      <th></th>\n      <th colspan=\"2\" halign=\"left\">data</th>\n      <th colspan=\"3\" halign=\"left\">confirmados</th>\n      <th>recup.</th>\n      <th>óbitos</th>\n    </tr>\n    <tr>\n      <th></th>\n      <th>data</th>\n      <th>data.1</th>\n      <th>Δ</th>\n      <th>Σ</th>\n      <th>‱</th>\n      <th>recup.</th>\n      <th>óbitos</th>\n    </tr>\n  </thead>\n  <tbody>\n    <tr>\n      <th>0</th>\n      <td>03 Mar</td>\n      <td>03 Mar</td>\n      <td>—</td>\n      <td>0</td>\n      <td>0000</td>\n      <td>—</td>\n      <td>0</td>\n    </tr>\n    <tr>\n      <th>1</th>\n      <td>04 Mar</td>\n      <td>04 Mar</td>\n      <td>0</td>\n      <td>0</td>\n      <td>0000</td>\n      <td>—</td>\n      <td>0</td>\n    </tr>\n    <tr>\n      <th>2</th>\n      <td>05 Mar</td>\n      <td>05 Mar</td>\n      <td>0</td>\n      <td>0</td>\n      <td>0000</td>\n      <td>—</td>\n      <td>0</td>\n    </tr>\n    <tr>\n      <th>3</th>\n      <td>06 Mar</td>\n      <td>06 Mar</td>\n      <td>0</td>\n      <td>0</td>\n      <td>0000</td>\n      <td>—</td>\n      <td>0</td>\n    </tr>\n    <tr>\n      <th>4</th>\n      <td>07 Mar</td>\n      <td>07 Mar</td>\n      <td>0</td>\n      <td>0</td>\n      <td>0000</td>\n      <td>—</td>\n      <td>0</td>\n    </tr>\n    <tr>\n      <th>...</th>\n      <td>...</td>\n      <td>...</td>\n      <td>...</td>\n      <td>...</td>\n      <td>...</td>\n      <td>...</td>\n      <td>...</td>\n    </tr>\n    <tr>\n      <th>204</th>\n      <td>23 Set</td>\n      <td>23 Set</td>\n      <td>5</td>\n      <td>210</td>\n      <td>0784</td>\n      <td>—</td>\n      <td>0</td>\n    </tr>\n    <tr>\n      <th>205</th>\n      <td>24 Set</td>\n      <td>24 Set</td>\n      <td>1</td>\n      <td>211</td>\n      <td>0788</td>\n      <td>—</td>\n      <td>0</td>\n    </tr>\n    <tr>\n      <th>206</th>\n      <td>25 Set</td>\n      <td>25 Set</td>\n      <td>0</td>\n      <td>211</td>\n      <td>0788</td>\n      <td>—</td>\n      <td>0</td>\n    </tr>\n    <tr>\n      <th>207</th>\n      <td>26 Set</td>\n      <td>26 Set</td>\n      <td>3</td>\n      <td>214</td>\n      <td>0799</td>\n      <td>—</td>\n      <td>0</td>\n    </tr>\n    <tr>\n      <th>208</th>\n      <td>27 Set</td>\n      <td>27 Set</td>\n      <td>3</td>\n      <td>217</td>\n      <td>0810</td>\n      <td>—</td>\n      <td>0</td>\n    </tr>\n  </tbody>\n</table>\n<p>209 rows × 7 columns</p>\n</div>"
     },
     "metadata": {},
     "execution_count": 33
    }
   ],
   "source": [
    "# select relevant columns and drop last helper rows\n",
    "table = table[['data','Madeira']].drop(table.tail(4).index)\n",
    "table "
   ]
  },
  {
   "cell_type": "code",
   "execution_count": 34,
   "metadata": {},
   "outputs": [
    {
     "output_type": "execute_result",
     "data": {
      "text/plain": "       data  data.1  Δ    Σ     ‱ recup. óbitos\n0    03 Mar  03 Mar  —    0  0000      —      0\n1    04 Mar  04 Mar  0    0  0000      —      0\n2    05 Mar  05 Mar  0    0  0000      —      0\n3    06 Mar  06 Mar  0    0  0000      —      0\n4    07 Mar  07 Mar  0    0  0000      —      0\n..      ...     ... ..  ...   ...    ...    ...\n204  23 Set  23 Set  5  210  0784      —      0\n205  24 Set  24 Set  1  211  0788      —      0\n206  25 Set  25 Set  0  211  0788      —      0\n207  26 Set  26 Set  3  214  0799      —      0\n208  27 Set  27 Set  3  217  0810      —      0\n\n[209 rows x 7 columns]",
      "text/html": "<div>\n<style scoped>\n    .dataframe tbody tr th:only-of-type {\n        vertical-align: middle;\n    }\n\n    .dataframe tbody tr th {\n        vertical-align: top;\n    }\n\n    .dataframe thead th {\n        text-align: right;\n    }\n</style>\n<table border=\"1\" class=\"dataframe\">\n  <thead>\n    <tr style=\"text-align: right;\">\n      <th></th>\n      <th>data</th>\n      <th>data.1</th>\n      <th>Δ</th>\n      <th>Σ</th>\n      <th>‱</th>\n      <th>recup.</th>\n      <th>óbitos</th>\n    </tr>\n  </thead>\n  <tbody>\n    <tr>\n      <th>0</th>\n      <td>03 Mar</td>\n      <td>03 Mar</td>\n      <td>—</td>\n      <td>0</td>\n      <td>0000</td>\n      <td>—</td>\n      <td>0</td>\n    </tr>\n    <tr>\n      <th>1</th>\n      <td>04 Mar</td>\n      <td>04 Mar</td>\n      <td>0</td>\n      <td>0</td>\n      <td>0000</td>\n      <td>—</td>\n      <td>0</td>\n    </tr>\n    <tr>\n      <th>2</th>\n      <td>05 Mar</td>\n      <td>05 Mar</td>\n      <td>0</td>\n      <td>0</td>\n      <td>0000</td>\n      <td>—</td>\n      <td>0</td>\n    </tr>\n    <tr>\n      <th>3</th>\n      <td>06 Mar</td>\n      <td>06 Mar</td>\n      <td>0</td>\n      <td>0</td>\n      <td>0000</td>\n      <td>—</td>\n      <td>0</td>\n    </tr>\n    <tr>\n      <th>4</th>\n      <td>07 Mar</td>\n      <td>07 Mar</td>\n      <td>0</td>\n      <td>0</td>\n      <td>0000</td>\n      <td>—</td>\n      <td>0</td>\n    </tr>\n    <tr>\n      <th>...</th>\n      <td>...</td>\n      <td>...</td>\n      <td>...</td>\n      <td>...</td>\n      <td>...</td>\n      <td>...</td>\n      <td>...</td>\n    </tr>\n    <tr>\n      <th>204</th>\n      <td>23 Set</td>\n      <td>23 Set</td>\n      <td>5</td>\n      <td>210</td>\n      <td>0784</td>\n      <td>—</td>\n      <td>0</td>\n    </tr>\n    <tr>\n      <th>205</th>\n      <td>24 Set</td>\n      <td>24 Set</td>\n      <td>1</td>\n      <td>211</td>\n      <td>0788</td>\n      <td>—</td>\n      <td>0</td>\n    </tr>\n    <tr>\n      <th>206</th>\n      <td>25 Set</td>\n      <td>25 Set</td>\n      <td>0</td>\n      <td>211</td>\n      <td>0788</td>\n      <td>—</td>\n      <td>0</td>\n    </tr>\n    <tr>\n      <th>207</th>\n      <td>26 Set</td>\n      <td>26 Set</td>\n      <td>3</td>\n      <td>214</td>\n      <td>0799</td>\n      <td>—</td>\n      <td>0</td>\n    </tr>\n    <tr>\n      <th>208</th>\n      <td>27 Set</td>\n      <td>27 Set</td>\n      <td>3</td>\n      <td>217</td>\n      <td>0810</td>\n      <td>—</td>\n      <td>0</td>\n    </tr>\n  </tbody>\n</table>\n<p>209 rows × 7 columns</p>\n</div>"
     },
     "metadata": {},
     "execution_count": 34
    }
   ],
   "source": [
    "# drop unneeded levels \n",
    "table.columns = table.columns.droplevel([0,1])\n",
    "table"
   ]
  },
  {
   "cell_type": "code",
   "execution_count": 35,
   "metadata": {},
   "outputs": [],
   "source": [
    "table = table.loc[:,['Σ', 'Δ']]"
   ]
  },
  {
   "cell_type": "code",
   "execution_count": 36,
   "metadata": {},
   "outputs": [
    {
     "output_type": "execute_result",
     "data": {
      "text/plain": "       Σ  Δ\n0      0  —\n1      0  0\n2      0  0\n3      0  0\n4      0  0\n..   ... ..\n204  210  5\n205  211  1\n206  211  0\n207  214  3\n208  217  3\n\n[209 rows x 2 columns]",
      "text/html": "<div>\n<style scoped>\n    .dataframe tbody tr th:only-of-type {\n        vertical-align: middle;\n    }\n\n    .dataframe tbody tr th {\n        vertical-align: top;\n    }\n\n    .dataframe thead th {\n        text-align: right;\n    }\n</style>\n<table border=\"1\" class=\"dataframe\">\n  <thead>\n    <tr style=\"text-align: right;\">\n      <th></th>\n      <th>Σ</th>\n      <th>Δ</th>\n    </tr>\n  </thead>\n  <tbody>\n    <tr>\n      <th>0</th>\n      <td>0</td>\n      <td>—</td>\n    </tr>\n    <tr>\n      <th>1</th>\n      <td>0</td>\n      <td>0</td>\n    </tr>\n    <tr>\n      <th>2</th>\n      <td>0</td>\n      <td>0</td>\n    </tr>\n    <tr>\n      <th>3</th>\n      <td>0</td>\n      <td>0</td>\n    </tr>\n    <tr>\n      <th>4</th>\n      <td>0</td>\n      <td>0</td>\n    </tr>\n    <tr>\n      <th>...</th>\n      <td>...</td>\n      <td>...</td>\n    </tr>\n    <tr>\n      <th>204</th>\n      <td>210</td>\n      <td>5</td>\n    </tr>\n    <tr>\n      <th>205</th>\n      <td>211</td>\n      <td>1</td>\n    </tr>\n    <tr>\n      <th>206</th>\n      <td>211</td>\n      <td>0</td>\n    </tr>\n    <tr>\n      <th>207</th>\n      <td>214</td>\n      <td>3</td>\n    </tr>\n    <tr>\n      <th>208</th>\n      <td>217</td>\n      <td>3</td>\n    </tr>\n  </tbody>\n</table>\n<p>209 rows × 2 columns</p>\n</div>"
     },
     "metadata": {},
     "execution_count": 36
    }
   ],
   "source": [
    "table"
   ]
  },
  {
   "cell_type": "code",
   "execution_count": 37,
   "metadata": {},
   "outputs": [],
   "source": [
    "# create new, proper date column, starting from March 1st; assuming update each day\n",
    "start_date = '2020-03-03'\n",
    "end_date = pd.to_datetime(start_date) + pd.DateOffset(days=len(table)-1)\n",
    "dates = pd.date_range(start_date, end=end_date)"
   ]
  },
  {
   "cell_type": "code",
   "execution_count": 38,
   "metadata": {},
   "outputs": [
    {
     "output_type": "execute_result",
     "data": {
      "text/plain": "       Σ  Δ       date\n0      0  — 2020-03-03\n1      0  0 2020-03-04\n2      0  0 2020-03-05\n3      0  0 2020-03-06\n4      0  0 2020-03-07\n..   ... ..        ...\n204  210  5 2020-09-23\n205  211  1 2020-09-24\n206  211  0 2020-09-25\n207  214  3 2020-09-26\n208  217  3 2020-09-27\n\n[209 rows x 3 columns]",
      "text/html": "<div>\n<style scoped>\n    .dataframe tbody tr th:only-of-type {\n        vertical-align: middle;\n    }\n\n    .dataframe tbody tr th {\n        vertical-align: top;\n    }\n\n    .dataframe thead th {\n        text-align: right;\n    }\n</style>\n<table border=\"1\" class=\"dataframe\">\n  <thead>\n    <tr style=\"text-align: right;\">\n      <th></th>\n      <th>Σ</th>\n      <th>Δ</th>\n      <th>date</th>\n    </tr>\n  </thead>\n  <tbody>\n    <tr>\n      <th>0</th>\n      <td>0</td>\n      <td>—</td>\n      <td>2020-03-03</td>\n    </tr>\n    <tr>\n      <th>1</th>\n      <td>0</td>\n      <td>0</td>\n      <td>2020-03-04</td>\n    </tr>\n    <tr>\n      <th>2</th>\n      <td>0</td>\n      <td>0</td>\n      <td>2020-03-05</td>\n    </tr>\n    <tr>\n      <th>3</th>\n      <td>0</td>\n      <td>0</td>\n      <td>2020-03-06</td>\n    </tr>\n    <tr>\n      <th>4</th>\n      <td>0</td>\n      <td>0</td>\n      <td>2020-03-07</td>\n    </tr>\n    <tr>\n      <th>...</th>\n      <td>...</td>\n      <td>...</td>\n      <td>...</td>\n    </tr>\n    <tr>\n      <th>204</th>\n      <td>210</td>\n      <td>5</td>\n      <td>2020-09-23</td>\n    </tr>\n    <tr>\n      <th>205</th>\n      <td>211</td>\n      <td>1</td>\n      <td>2020-09-24</td>\n    </tr>\n    <tr>\n      <th>206</th>\n      <td>211</td>\n      <td>0</td>\n      <td>2020-09-25</td>\n    </tr>\n    <tr>\n      <th>207</th>\n      <td>214</td>\n      <td>3</td>\n      <td>2020-09-26</td>\n    </tr>\n    <tr>\n      <th>208</th>\n      <td>217</td>\n      <td>3</td>\n      <td>2020-09-27</td>\n    </tr>\n  </tbody>\n</table>\n<p>209 rows × 3 columns</p>\n</div>"
     },
     "metadata": {},
     "execution_count": 38
    }
   ],
   "source": [
    "table['date'] = pd.Series(dates, index=table.index).values\n",
    "table"
   ]
  },
  {
   "cell_type": "code",
   "execution_count": 39,
   "metadata": {
    "tags": []
   },
   "outputs": [
    {
     "output_type": "display_data",
     "data": {
      "application/vnd.plotly.v1+json": {
       "config": {
        "linkText": "Export to plot.ly",
        "plotlyServerURL": "https://plot.ly",
        "showLink": false
       },
       "data": [
        {
         "name": "sum of COVID cases",
         "type": "scatter",
         "x": [
          "2020-03-03T00:00:00",
          "2020-03-04T00:00:00",
          "2020-03-05T00:00:00",
          "2020-03-06T00:00:00",
          "2020-03-07T00:00:00",
          "2020-03-08T00:00:00",
          "2020-03-09T00:00:00",
          "2020-03-10T00:00:00",
          "2020-03-11T00:00:00",
          "2020-03-12T00:00:00",
          "2020-03-13T00:00:00",
          "2020-03-14T00:00:00",
          "2020-03-15T00:00:00",
          "2020-03-16T00:00:00",
          "2020-03-17T00:00:00",
          "2020-03-18T00:00:00",
          "2020-03-19T00:00:00",
          "2020-03-20T00:00:00",
          "2020-03-21T00:00:00",
          "2020-03-22T00:00:00",
          "2020-03-23T00:00:00",
          "2020-03-24T00:00:00",
          "2020-03-25T00:00:00",
          "2020-03-26T00:00:00",
          "2020-03-27T00:00:00",
          "2020-03-28T00:00:00",
          "2020-03-29T00:00:00",
          "2020-03-30T00:00:00",
          "2020-03-31T00:00:00",
          "2020-04-01T00:00:00",
          "2020-04-02T00:00:00",
          "2020-04-03T00:00:00",
          "2020-04-04T00:00:00",
          "2020-04-05T00:00:00",
          "2020-04-06T00:00:00",
          "2020-04-07T00:00:00",
          "2020-04-08T00:00:00",
          "2020-04-09T00:00:00",
          "2020-04-10T00:00:00",
          "2020-04-11T00:00:00",
          "2020-04-12T00:00:00",
          "2020-04-13T00:00:00",
          "2020-04-14T00:00:00",
          "2020-04-15T00:00:00",
          "2020-04-16T00:00:00",
          "2020-04-17T00:00:00",
          "2020-04-18T00:00:00",
          "2020-04-19T00:00:00",
          "2020-04-20T00:00:00",
          "2020-04-21T00:00:00",
          "2020-04-22T00:00:00",
          "2020-04-23T00:00:00",
          "2020-04-24T00:00:00",
          "2020-04-25T00:00:00",
          "2020-04-26T00:00:00",
          "2020-04-27T00:00:00",
          "2020-04-28T00:00:00",
          "2020-04-29T00:00:00",
          "2020-04-30T00:00:00",
          "2020-05-01T00:00:00",
          "2020-05-02T00:00:00",
          "2020-05-03T00:00:00",
          "2020-05-04T00:00:00",
          "2020-05-05T00:00:00",
          "2020-05-06T00:00:00",
          "2020-05-07T00:00:00",
          "2020-05-08T00:00:00",
          "2020-05-09T00:00:00",
          "2020-05-10T00:00:00",
          "2020-05-11T00:00:00",
          "2020-05-12T00:00:00",
          "2020-05-13T00:00:00",
          "2020-05-14T00:00:00",
          "2020-05-15T00:00:00",
          "2020-05-16T00:00:00",
          "2020-05-17T00:00:00",
          "2020-05-18T00:00:00",
          "2020-05-19T00:00:00",
          "2020-05-20T00:00:00",
          "2020-05-21T00:00:00",
          "2020-05-22T00:00:00",
          "2020-05-23T00:00:00",
          "2020-05-24T00:00:00",
          "2020-05-25T00:00:00",
          "2020-05-26T00:00:00",
          "2020-05-27T00:00:00",
          "2020-05-28T00:00:00",
          "2020-05-29T00:00:00",
          "2020-05-30T00:00:00",
          "2020-05-31T00:00:00",
          "2020-06-01T00:00:00",
          "2020-06-02T00:00:00",
          "2020-06-03T00:00:00",
          "2020-06-04T00:00:00",
          "2020-06-05T00:00:00",
          "2020-06-06T00:00:00",
          "2020-06-07T00:00:00",
          "2020-06-08T00:00:00",
          "2020-06-09T00:00:00",
          "2020-06-10T00:00:00",
          "2020-06-11T00:00:00",
          "2020-06-12T00:00:00",
          "2020-06-13T00:00:00",
          "2020-06-14T00:00:00",
          "2020-06-15T00:00:00",
          "2020-06-16T00:00:00",
          "2020-06-17T00:00:00",
          "2020-06-18T00:00:00",
          "2020-06-19T00:00:00",
          "2020-06-20T00:00:00",
          "2020-06-21T00:00:00",
          "2020-06-22T00:00:00",
          "2020-06-23T00:00:00",
          "2020-06-24T00:00:00",
          "2020-06-25T00:00:00",
          "2020-06-26T00:00:00",
          "2020-06-27T00:00:00",
          "2020-06-28T00:00:00",
          "2020-06-29T00:00:00",
          "2020-06-30T00:00:00",
          "2020-07-01T00:00:00",
          "2020-07-02T00:00:00",
          "2020-07-03T00:00:00",
          "2020-07-04T00:00:00",
          "2020-07-05T00:00:00",
          "2020-07-06T00:00:00",
          "2020-07-07T00:00:00",
          "2020-07-08T00:00:00",
          "2020-07-09T00:00:00",
          "2020-07-10T00:00:00",
          "2020-07-11T00:00:00",
          "2020-07-12T00:00:00",
          "2020-07-13T00:00:00",
          "2020-07-14T00:00:00",
          "2020-07-15T00:00:00",
          "2020-07-16T00:00:00",
          "2020-07-17T00:00:00",
          "2020-07-18T00:00:00",
          "2020-07-19T00:00:00",
          "2020-07-20T00:00:00",
          "2020-07-21T00:00:00",
          "2020-07-22T00:00:00",
          "2020-07-23T00:00:00",
          "2020-07-24T00:00:00",
          "2020-07-25T00:00:00",
          "2020-07-26T00:00:00",
          "2020-07-27T00:00:00",
          "2020-07-28T00:00:00",
          "2020-07-29T00:00:00",
          "2020-07-30T00:00:00",
          "2020-07-31T00:00:00",
          "2020-08-01T00:00:00",
          "2020-08-02T00:00:00",
          "2020-08-03T00:00:00",
          "2020-08-04T00:00:00",
          "2020-08-05T00:00:00",
          "2020-08-06T00:00:00",
          "2020-08-07T00:00:00",
          "2020-08-08T00:00:00",
          "2020-08-09T00:00:00",
          "2020-08-10T00:00:00",
          "2020-08-11T00:00:00",
          "2020-08-12T00:00:00",
          "2020-08-13T00:00:00",
          "2020-08-14T00:00:00",
          "2020-08-15T00:00:00",
          "2020-08-16T00:00:00",
          "2020-08-17T00:00:00",
          "2020-08-18T00:00:00",
          "2020-08-19T00:00:00",
          "2020-08-20T00:00:00",
          "2020-08-21T00:00:00",
          "2020-08-22T00:00:00",
          "2020-08-23T00:00:00",
          "2020-08-24T00:00:00",
          "2020-08-25T00:00:00",
          "2020-08-26T00:00:00",
          "2020-08-27T00:00:00",
          "2020-08-28T00:00:00",
          "2020-08-29T00:00:00",
          "2020-08-30T00:00:00",
          "2020-08-31T00:00:00",
          "2020-09-01T00:00:00",
          "2020-09-02T00:00:00",
          "2020-09-03T00:00:00",
          "2020-09-04T00:00:00",
          "2020-09-05T00:00:00",
          "2020-09-06T00:00:00",
          "2020-09-07T00:00:00",
          "2020-09-08T00:00:00",
          "2020-09-09T00:00:00",
          "2020-09-10T00:00:00",
          "2020-09-11T00:00:00",
          "2020-09-12T00:00:00",
          "2020-09-13T00:00:00",
          "2020-09-14T00:00:00",
          "2020-09-15T00:00:00",
          "2020-09-16T00:00:00",
          "2020-09-17T00:00:00",
          "2020-09-18T00:00:00",
          "2020-09-19T00:00:00",
          "2020-09-20T00:00:00",
          "2020-09-21T00:00:00",
          "2020-09-22T00:00:00",
          "2020-09-23T00:00:00",
          "2020-09-24T00:00:00",
          "2020-09-25T00:00:00",
          "2020-09-26T00:00:00",
          "2020-09-27T00:00:00"
         ],
         "y": [
          "0",
          "0",
          "0",
          "0",
          "0",
          "0",
          "0",
          "0",
          "0",
          "0",
          "0",
          "0",
          "0",
          "0",
          "0",
          "1",
          "1",
          "1",
          "5",
          "7",
          "9",
          "12",
          "16",
          "15",
          "21",
          "31",
          "43",
          "44",
          "46",
          "48",
          "48",
          "50",
          "51",
          "52",
          "52",
          "52",
          "52",
          "53",
          "59",
          "59",
          "59",
          "59",
          "59",
          "59",
          "53",
          "53",
          "54",
          "61",
          "80",
          "85",
          "85",
          "85",
          "85",
          "86",
          "86",
          "86",
          "86",
          "86",
          "86",
          "86",
          "86",
          "86",
          "86",
          "86",
          "86",
          "90",
          "90",
          "90",
          "90",
          "90",
          "90",
          "90",
          "90",
          "90",
          "90",
          "90",
          "90",
          "90",
          "90",
          "90",
          "90",
          "90",
          "90",
          "90",
          "90",
          "90",
          "90",
          "90",
          "90",
          "90",
          "90",
          "91",
          "90",
          "90",
          "90",
          "90",
          "90",
          "90",
          "90",
          "90",
          "90",
          "90",
          "90",
          "90",
          "90",
          "90",
          "90",
          "90",
          "91",
          "91",
          "92",
          "92",
          "92",
          "92",
          "92",
          "92",
          "92",
          "92",
          "92",
          "93",
          "92",
          "92",
          "92",
          "92",
          "93",
          "93",
          "95",
          "95",
          "95",
          "95",
          "95",
          "97",
          "99",
          "99",
          "99",
          "99",
          "99",
          "101",
          "102",
          "102",
          "102",
          "102",
          "102",
          "105",
          "105",
          "105",
          "105",
          "105",
          "105",
          "106",
          "106",
          "106",
          "108",
          "113",
          "117",
          "118",
          "119",
          "121",
          "122",
          "123",
          "123",
          "123",
          "125",
          "126",
          "128",
          "129",
          "130",
          "130",
          "134",
          "135",
          "135",
          "138",
          "140",
          "140",
          "140",
          "141",
          "141",
          "148",
          "153",
          "157",
          "157",
          "157",
          "160",
          "161",
          "165",
          "166",
          "170",
          "170",
          "172",
          "173",
          "174",
          "180",
          "181",
          "183",
          "184",
          "192",
          "192",
          "193",
          "193",
          "196",
          "198",
          "203",
          "204",
          "205",
          "210",
          "211",
          "211",
          "214",
          "217"
         ]
        }
       ],
       "layout": {
        "template": {
         "data": {
          "bar": [
           {
            "error_x": {
             "color": "#2a3f5f"
            },
            "error_y": {
             "color": "#2a3f5f"
            },
            "marker": {
             "line": {
              "color": "#E5ECF6",
              "width": 0.5
             }
            },
            "type": "bar"
           }
          ],
          "barpolar": [
           {
            "marker": {
             "line": {
              "color": "#E5ECF6",
              "width": 0.5
             }
            },
            "type": "barpolar"
           }
          ],
          "carpet": [
           {
            "aaxis": {
             "endlinecolor": "#2a3f5f",
             "gridcolor": "white",
             "linecolor": "white",
             "minorgridcolor": "white",
             "startlinecolor": "#2a3f5f"
            },
            "baxis": {
             "endlinecolor": "#2a3f5f",
             "gridcolor": "white",
             "linecolor": "white",
             "minorgridcolor": "white",
             "startlinecolor": "#2a3f5f"
            },
            "type": "carpet"
           }
          ],
          "choropleth": [
           {
            "colorbar": {
             "outlinewidth": 0,
             "ticks": ""
            },
            "type": "choropleth"
           }
          ],
          "contour": [
           {
            "colorbar": {
             "outlinewidth": 0,
             "ticks": ""
            },
            "colorscale": [
             [
              0,
              "#0d0887"
             ],
             [
              0.1111111111111111,
              "#46039f"
             ],
             [
              0.2222222222222222,
              "#7201a8"
             ],
             [
              0.3333333333333333,
              "#9c179e"
             ],
             [
              0.4444444444444444,
              "#bd3786"
             ],
             [
              0.5555555555555556,
              "#d8576b"
             ],
             [
              0.6666666666666666,
              "#ed7953"
             ],
             [
              0.7777777777777778,
              "#fb9f3a"
             ],
             [
              0.8888888888888888,
              "#fdca26"
             ],
             [
              1,
              "#f0f921"
             ]
            ],
            "type": "contour"
           }
          ],
          "contourcarpet": [
           {
            "colorbar": {
             "outlinewidth": 0,
             "ticks": ""
            },
            "type": "contourcarpet"
           }
          ],
          "heatmap": [
           {
            "colorbar": {
             "outlinewidth": 0,
             "ticks": ""
            },
            "colorscale": [
             [
              0,
              "#0d0887"
             ],
             [
              0.1111111111111111,
              "#46039f"
             ],
             [
              0.2222222222222222,
              "#7201a8"
             ],
             [
              0.3333333333333333,
              "#9c179e"
             ],
             [
              0.4444444444444444,
              "#bd3786"
             ],
             [
              0.5555555555555556,
              "#d8576b"
             ],
             [
              0.6666666666666666,
              "#ed7953"
             ],
             [
              0.7777777777777778,
              "#fb9f3a"
             ],
             [
              0.8888888888888888,
              "#fdca26"
             ],
             [
              1,
              "#f0f921"
             ]
            ],
            "type": "heatmap"
           }
          ],
          "heatmapgl": [
           {
            "colorbar": {
             "outlinewidth": 0,
             "ticks": ""
            },
            "colorscale": [
             [
              0,
              "#0d0887"
             ],
             [
              0.1111111111111111,
              "#46039f"
             ],
             [
              0.2222222222222222,
              "#7201a8"
             ],
             [
              0.3333333333333333,
              "#9c179e"
             ],
             [
              0.4444444444444444,
              "#bd3786"
             ],
             [
              0.5555555555555556,
              "#d8576b"
             ],
             [
              0.6666666666666666,
              "#ed7953"
             ],
             [
              0.7777777777777778,
              "#fb9f3a"
             ],
             [
              0.8888888888888888,
              "#fdca26"
             ],
             [
              1,
              "#f0f921"
             ]
            ],
            "type": "heatmapgl"
           }
          ],
          "histogram": [
           {
            "marker": {
             "colorbar": {
              "outlinewidth": 0,
              "ticks": ""
             }
            },
            "type": "histogram"
           }
          ],
          "histogram2d": [
           {
            "colorbar": {
             "outlinewidth": 0,
             "ticks": ""
            },
            "colorscale": [
             [
              0,
              "#0d0887"
             ],
             [
              0.1111111111111111,
              "#46039f"
             ],
             [
              0.2222222222222222,
              "#7201a8"
             ],
             [
              0.3333333333333333,
              "#9c179e"
             ],
             [
              0.4444444444444444,
              "#bd3786"
             ],
             [
              0.5555555555555556,
              "#d8576b"
             ],
             [
              0.6666666666666666,
              "#ed7953"
             ],
             [
              0.7777777777777778,
              "#fb9f3a"
             ],
             [
              0.8888888888888888,
              "#fdca26"
             ],
             [
              1,
              "#f0f921"
             ]
            ],
            "type": "histogram2d"
           }
          ],
          "histogram2dcontour": [
           {
            "colorbar": {
             "outlinewidth": 0,
             "ticks": ""
            },
            "colorscale": [
             [
              0,
              "#0d0887"
             ],
             [
              0.1111111111111111,
              "#46039f"
             ],
             [
              0.2222222222222222,
              "#7201a8"
             ],
             [
              0.3333333333333333,
              "#9c179e"
             ],
             [
              0.4444444444444444,
              "#bd3786"
             ],
             [
              0.5555555555555556,
              "#d8576b"
             ],
             [
              0.6666666666666666,
              "#ed7953"
             ],
             [
              0.7777777777777778,
              "#fb9f3a"
             ],
             [
              0.8888888888888888,
              "#fdca26"
             ],
             [
              1,
              "#f0f921"
             ]
            ],
            "type": "histogram2dcontour"
           }
          ],
          "mesh3d": [
           {
            "colorbar": {
             "outlinewidth": 0,
             "ticks": ""
            },
            "type": "mesh3d"
           }
          ],
          "parcoords": [
           {
            "line": {
             "colorbar": {
              "outlinewidth": 0,
              "ticks": ""
             }
            },
            "type": "parcoords"
           }
          ],
          "pie": [
           {
            "automargin": true,
            "type": "pie"
           }
          ],
          "scatter": [
           {
            "marker": {
             "colorbar": {
              "outlinewidth": 0,
              "ticks": ""
             }
            },
            "type": "scatter"
           }
          ],
          "scatter3d": [
           {
            "line": {
             "colorbar": {
              "outlinewidth": 0,
              "ticks": ""
             }
            },
            "marker": {
             "colorbar": {
              "outlinewidth": 0,
              "ticks": ""
             }
            },
            "type": "scatter3d"
           }
          ],
          "scattercarpet": [
           {
            "marker": {
             "colorbar": {
              "outlinewidth": 0,
              "ticks": ""
             }
            },
            "type": "scattercarpet"
           }
          ],
          "scattergeo": [
           {
            "marker": {
             "colorbar": {
              "outlinewidth": 0,
              "ticks": ""
             }
            },
            "type": "scattergeo"
           }
          ],
          "scattergl": [
           {
            "marker": {
             "colorbar": {
              "outlinewidth": 0,
              "ticks": ""
             }
            },
            "type": "scattergl"
           }
          ],
          "scattermapbox": [
           {
            "marker": {
             "colorbar": {
              "outlinewidth": 0,
              "ticks": ""
             }
            },
            "type": "scattermapbox"
           }
          ],
          "scatterpolar": [
           {
            "marker": {
             "colorbar": {
              "outlinewidth": 0,
              "ticks": ""
             }
            },
            "type": "scatterpolar"
           }
          ],
          "scatterpolargl": [
           {
            "marker": {
             "colorbar": {
              "outlinewidth": 0,
              "ticks": ""
             }
            },
            "type": "scatterpolargl"
           }
          ],
          "scatterternary": [
           {
            "marker": {
             "colorbar": {
              "outlinewidth": 0,
              "ticks": ""
             }
            },
            "type": "scatterternary"
           }
          ],
          "surface": [
           {
            "colorbar": {
             "outlinewidth": 0,
             "ticks": ""
            },
            "colorscale": [
             [
              0,
              "#0d0887"
             ],
             [
              0.1111111111111111,
              "#46039f"
             ],
             [
              0.2222222222222222,
              "#7201a8"
             ],
             [
              0.3333333333333333,
              "#9c179e"
             ],
             [
              0.4444444444444444,
              "#bd3786"
             ],
             [
              0.5555555555555556,
              "#d8576b"
             ],
             [
              0.6666666666666666,
              "#ed7953"
             ],
             [
              0.7777777777777778,
              "#fb9f3a"
             ],
             [
              0.8888888888888888,
              "#fdca26"
             ],
             [
              1,
              "#f0f921"
             ]
            ],
            "type": "surface"
           }
          ],
          "table": [
           {
            "cells": {
             "fill": {
              "color": "#EBF0F8"
             },
             "line": {
              "color": "white"
             }
            },
            "header": {
             "fill": {
              "color": "#C8D4E3"
             },
             "line": {
              "color": "white"
             }
            },
            "type": "table"
           }
          ]
         },
         "layout": {
          "annotationdefaults": {
           "arrowcolor": "#2a3f5f",
           "arrowhead": 0,
           "arrowwidth": 1
          },
          "coloraxis": {
           "colorbar": {
            "outlinewidth": 0,
            "ticks": ""
           }
          },
          "colorscale": {
           "diverging": [
            [
             0,
             "#8e0152"
            ],
            [
             0.1,
             "#c51b7d"
            ],
            [
             0.2,
             "#de77ae"
            ],
            [
             0.3,
             "#f1b6da"
            ],
            [
             0.4,
             "#fde0ef"
            ],
            [
             0.5,
             "#f7f7f7"
            ],
            [
             0.6,
             "#e6f5d0"
            ],
            [
             0.7,
             "#b8e186"
            ],
            [
             0.8,
             "#7fbc41"
            ],
            [
             0.9,
             "#4d9221"
            ],
            [
             1,
             "#276419"
            ]
           ],
           "sequential": [
            [
             0,
             "#0d0887"
            ],
            [
             0.1111111111111111,
             "#46039f"
            ],
            [
             0.2222222222222222,
             "#7201a8"
            ],
            [
             0.3333333333333333,
             "#9c179e"
            ],
            [
             0.4444444444444444,
             "#bd3786"
            ],
            [
             0.5555555555555556,
             "#d8576b"
            ],
            [
             0.6666666666666666,
             "#ed7953"
            ],
            [
             0.7777777777777778,
             "#fb9f3a"
            ],
            [
             0.8888888888888888,
             "#fdca26"
            ],
            [
             1,
             "#f0f921"
            ]
           ],
           "sequentialminus": [
            [
             0,
             "#0d0887"
            ],
            [
             0.1111111111111111,
             "#46039f"
            ],
            [
             0.2222222222222222,
             "#7201a8"
            ],
            [
             0.3333333333333333,
             "#9c179e"
            ],
            [
             0.4444444444444444,
             "#bd3786"
            ],
            [
             0.5555555555555556,
             "#d8576b"
            ],
            [
             0.6666666666666666,
             "#ed7953"
            ],
            [
             0.7777777777777778,
             "#fb9f3a"
            ],
            [
             0.8888888888888888,
             "#fdca26"
            ],
            [
             1,
             "#f0f921"
            ]
           ]
          },
          "colorway": [
           "#636efa",
           "#EF553B",
           "#00cc96",
           "#ab63fa",
           "#FFA15A",
           "#19d3f3",
           "#FF6692",
           "#B6E880",
           "#FF97FF",
           "#FECB52"
          ],
          "font": {
           "color": "#2a3f5f"
          },
          "geo": {
           "bgcolor": "white",
           "lakecolor": "white",
           "landcolor": "#E5ECF6",
           "showlakes": true,
           "showland": true,
           "subunitcolor": "white"
          },
          "hoverlabel": {
           "align": "left"
          },
          "hovermode": "closest",
          "mapbox": {
           "style": "light"
          },
          "paper_bgcolor": "white",
          "plot_bgcolor": "#E5ECF6",
          "polar": {
           "angularaxis": {
            "gridcolor": "white",
            "linecolor": "white",
            "ticks": ""
           },
           "bgcolor": "#E5ECF6",
           "radialaxis": {
            "gridcolor": "white",
            "linecolor": "white",
            "ticks": ""
           }
          },
          "scene": {
           "xaxis": {
            "backgroundcolor": "#E5ECF6",
            "gridcolor": "white",
            "gridwidth": 2,
            "linecolor": "white",
            "showbackground": true,
            "ticks": "",
            "zerolinecolor": "white"
           },
           "yaxis": {
            "backgroundcolor": "#E5ECF6",
            "gridcolor": "white",
            "gridwidth": 2,
            "linecolor": "white",
            "showbackground": true,
            "ticks": "",
            "zerolinecolor": "white"
           },
           "zaxis": {
            "backgroundcolor": "#E5ECF6",
            "gridcolor": "white",
            "gridwidth": 2,
            "linecolor": "white",
            "showbackground": true,
            "ticks": "",
            "zerolinecolor": "white"
           }
          },
          "shapedefaults": {
           "line": {
            "color": "#2a3f5f"
           }
          },
          "ternary": {
           "aaxis": {
            "gridcolor": "white",
            "linecolor": "white",
            "ticks": ""
           },
           "baxis": {
            "gridcolor": "white",
            "linecolor": "white",
            "ticks": ""
           },
           "bgcolor": "#E5ECF6",
           "caxis": {
            "gridcolor": "white",
            "linecolor": "white",
            "ticks": ""
           }
          },
          "title": {
           "x": 0.05
          },
          "xaxis": {
           "automargin": true,
           "gridcolor": "white",
           "linecolor": "white",
           "ticks": "",
           "title": {
            "standoff": 15
           },
           "zerolinecolor": "white",
           "zerolinewidth": 2
          },
          "yaxis": {
           "automargin": true,
           "gridcolor": "white",
           "linecolor": "white",
           "ticks": "",
           "title": {
            "standoff": 15
           },
           "zerolinecolor": "white",
           "zerolinewidth": 2
          }
         }
        },
        "title": {
         "text": "Linear scale"
        },
        "updatemenus": [
         {
          "active": 1,
          "buttons": [
           {
            "args": [
             {
              "visible": [
               true
              ]
             },
             {
              "title": "Log scale",
              "yaxis": {
               "type": "log"
              }
             }
            ],
            "label": "Log Scale",
            "method": "update"
           },
           {
            "args": [
             {
              "visible": [
               true
              ]
             },
             {
              "title": "Linear scale",
              "yaxis": {
               "type": "linear"
              }
             }
            ],
            "label": "Linear Scale",
            "method": "update"
           }
          ]
         }
        ]
       }
      }
     },
     "metadata": {}
    }
   ],
   "source": [
    "trace = go.Scatter(x=table['date'], y=table['Σ'], name='sum of COVID cases')\n",
    "data = [trace]\n",
    "\n",
    "updatemenus = list([\n",
    "    dict(active=1,\n",
    "         buttons=list([\n",
    "            dict(label='Log Scale',\n",
    "                 method='update',\n",
    "                 args=[{'visible': [True]},\n",
    "                       {'title': 'Log scale',\n",
    "                        'yaxis': {'type': 'log'}}]),\n",
    "            dict(label='Linear Scale',\n",
    "                 method='update',\n",
    "                 args=[{'visible': [True]},\n",
    "                       {'title': 'Linear scale',\n",
    "                        'yaxis': {'type': 'linear'}}])\n",
    "            ]),\n",
    "        )\n",
    "    ])\n",
    "\n",
    "layout = dict(updatemenus=updatemenus, title='Linear scale')\n",
    "fig = go.Figure(data=data, layout=layout)\n",
    "\n",
    "plotly.offline.iplot(fig)"
   ]
  },
  {
   "cell_type": "code",
   "execution_count": null,
   "metadata": {},
   "outputs": [],
   "source": []
  }
 ]
}